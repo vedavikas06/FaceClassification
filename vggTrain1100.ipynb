{
  "nbformat": 4,
  "nbformat_minor": 0,
  "metadata": {
    "colab": {
      "name": "vggTrain.ipynb",
      "version": "0.3.2",
      "provenance": [],
      "collapsed_sections": []
    },
    "kernelspec": {
      "name": "python3",
      "display_name": "Python 3"
    },
    "accelerator": "GPU"
  },
  "cells": [
    {
      "cell_type": "markdown",
      "metadata": {
        "id": "view-in-github",
        "colab_type": "text"
      },
      "source": [
        "[View in Colaboratory](https://colab.research.google.com/github/vedavikas06/FaceClassification/blob/master/vggTrain1100.ipynb)"
      ]
    },
    {
      "metadata": {
        "id": "CZmykcEyAyxf",
        "colab_type": "code",
        "colab": {
          "base_uri": "https://localhost:8080/",
          "height": 853
        },
        "outputId": "96a8da70-00b8-417d-ec52-3a1a2f85b1b7"
      },
      "cell_type": "code",
      "source": [
        "#@title Default title text\n",
        "import keras\n",
        "from keras.preprocessing.image import ImageDataGenerator\n",
        "from keras.models import Sequential\n",
        "from keras.layers import Convolution2D, MaxPooling2D\n",
        "from keras.layers import Flatten, Dense,Dropout\n",
        "import matplotlib.pyplot as plt\n",
        "from keras.applications import VGG16\n",
        "\n",
        "train_data_dir = 'dataNew/training'\n",
        "\n",
        "validation_data_dir = 'dataNew/validation'\n",
        "\n",
        "train_samples = 4312\n",
        "\n",
        "validation_samples = 801\n",
        "\n",
        "epoch = 10\n",
        "\n",
        "img_width, img_height = 100, 100\n",
        "\n",
        "# ** Model Begins **\n",
        "conv_base = VGG16(weights='imagenet',include_top=False,input_shape=(100, 100, 3))\n",
        "\n",
        "conv_base.trainable = True\n",
        "\n",
        "for layer in conv_base.layers:\n",
        "    if layer.name == 'block5_conv1':\n",
        "        layer.trainable = True\n",
        "    if layer.name == 'block4_conv1':\n",
        "        layer.trainable = True    \n",
        "    else:\n",
        "        layer.trainable = False\n",
        "\n",
        "conv_base.summary()\n"
      ],
      "execution_count": 1,
      "outputs": [
        {
          "output_type": "stream",
          "text": [
            "Using TensorFlow backend.\n"
          ],
          "name": "stderr"
        },
        {
          "output_type": "stream",
          "text": [
            "Downloading data from https://github.com/fchollet/deep-learning-models/releases/download/v0.1/vgg16_weights_tf_dim_ordering_tf_kernels_notop.h5\n",
            "58892288/58889256 [==============================] - 1s 0us/step\n",
            "_________________________________________________________________\n",
            "Layer (type)                 Output Shape              Param #   \n",
            "=================================================================\n",
            "input_1 (InputLayer)         (None, 100, 100, 3)       0         \n",
            "_________________________________________________________________\n",
            "block1_conv1 (Conv2D)        (None, 100, 100, 64)      1792      \n",
            "_________________________________________________________________\n",
            "block1_conv2 (Conv2D)        (None, 100, 100, 64)      36928     \n",
            "_________________________________________________________________\n",
            "block1_pool (MaxPooling2D)   (None, 50, 50, 64)        0         \n",
            "_________________________________________________________________\n",
            "block2_conv1 (Conv2D)        (None, 50, 50, 128)       73856     \n",
            "_________________________________________________________________\n",
            "block2_conv2 (Conv2D)        (None, 50, 50, 128)       147584    \n",
            "_________________________________________________________________\n",
            "block2_pool (MaxPooling2D)   (None, 25, 25, 128)       0         \n",
            "_________________________________________________________________\n",
            "block3_conv1 (Conv2D)        (None, 25, 25, 256)       295168    \n",
            "_________________________________________________________________\n",
            "block3_conv2 (Conv2D)        (None, 25, 25, 256)       590080    \n",
            "_________________________________________________________________\n",
            "block3_conv3 (Conv2D)        (None, 25, 25, 256)       590080    \n",
            "_________________________________________________________________\n",
            "block3_pool (MaxPooling2D)   (None, 12, 12, 256)       0         \n",
            "_________________________________________________________________\n",
            "block4_conv1 (Conv2D)        (None, 12, 12, 512)       1180160   \n",
            "_________________________________________________________________\n",
            "block4_conv2 (Conv2D)        (None, 12, 12, 512)       2359808   \n",
            "_________________________________________________________________\n",
            "block4_conv3 (Conv2D)        (None, 12, 12, 512)       2359808   \n",
            "_________________________________________________________________\n",
            "block4_pool (MaxPooling2D)   (None, 6, 6, 512)         0         \n",
            "_________________________________________________________________\n",
            "block5_conv1 (Conv2D)        (None, 6, 6, 512)         2359808   \n",
            "_________________________________________________________________\n",
            "block5_conv2 (Conv2D)        (None, 6, 6, 512)         2359808   \n",
            "_________________________________________________________________\n",
            "block5_conv3 (Conv2D)        (None, 6, 6, 512)         2359808   \n",
            "_________________________________________________________________\n",
            "block5_pool (MaxPooling2D)   (None, 3, 3, 512)         0         \n",
            "=================================================================\n",
            "Total params: 14,714,688\n",
            "Trainable params: 1,180,160\n",
            "Non-trainable params: 13,534,528\n",
            "_________________________________________________________________\n"
          ],
          "name": "stdout"
        }
      ]
    },
    {
      "metadata": {
        "id": "Fkvfy3hSA0E3",
        "colab_type": "code",
        "colab": {
          "base_uri": "https://localhost:8080/",
          "height": 1040
        },
        "outputId": "a80982a9-5bf4-47e6-9078-901a27c0f380"
      },
      "cell_type": "code",
      "source": [
        "model = Sequential()\n",
        "model.add(conv_base)\n",
        "model.add(Flatten())\n",
        "model.add(Dense(1000, activation='relu'))\n",
        "model.add(Dense(1000, activation='relu'))\n",
        "model.add(Dropout(0.4))\n",
        "\n",
        "model.add(Dense(4, activation='softmax'))\n",
        "\n",
        "\n",
        "model.summary()\n",
        "# ** Model Ends **\n",
        "\n",
        "model.compile(loss='categorical_crossentropy',\n",
        "              optimizer=keras.optimizers.Adam(),\n",
        "              metrics=['accuracy'])\n",
        "\n",
        "\n",
        "!pip install -U -q PyDrive\n",
        "from pydrive.auth import GoogleAuth\n",
        "from pydrive.drive import GoogleDrive\n",
        "from google.colab import auth\n",
        "from oauth2client.client import GoogleCredentials\n",
        "\n",
        "\n",
        "auth.authenticate_user()\n",
        "gauth = GoogleAuth()\n",
        "gauth.credentials = GoogleCredentials.get_application_default()\n",
        "drive = GoogleDrive(gauth)\n",
        "\n",
        "\n",
        "fid = drive.ListFile({'q':\"title='dataNew.zip'\"}).GetList()[0]['id']\n",
        "f = drive.CreateFile({'id': fid})\n",
        "f.GetContentFile('dataNew.zip')\n",
        "\n",
        "\n",
        "from google.colab import files\n",
        "files.os.listdir()\n",
        "\n",
        "import zipfile\n",
        "with zipfile.ZipFile(\"dataNew.zip\",\"r\") as zip_ref:\n",
        "    zip_ref.extractall()\n",
        "    \n",
        "files.os.listdir()    \n",
        "\n",
        "\n",
        "train_datagen = ImageDataGenerator(\n",
        "        rescale=1./255)\n",
        "\n",
        "validation_datagen = ImageDataGenerator(\n",
        "        rescale=1./255)\n",
        "\n",
        "test_datagen = ImageDataGenerator(rescale=1./255)\n",
        "\n",
        "train_generator = train_datagen.flow_from_directory(\n",
        "        train_data_dir,\n",
        "        target_size=(img_width, img_height),\n",
        "        #color_mode = 'grayscale',\n",
        "        batch_size=32,\n",
        "        class_mode='categorical')\n",
        "\n",
        "validation_generator = validation_datagen.flow_from_directory(\n",
        "        validation_data_dir,\n",
        "        target_size=(img_width, img_height),\n",
        "        #color_mode = 'grayscale',\n",
        "        batch_size=32,\n",
        "        class_mode='categorical')\n",
        "\n",
        "history = model.fit_generator(\n",
        "        train_generator,\n",
        "        samples_per_epoch=train_samples,\n",
        "        nb_epoch=epoch,\n",
        "        validation_data=validation_generator,\n",
        "        nb_val_samples=validation_samples,\n",
        "        )\n",
        "\n",
        "model.save_weights('vggweights1000.h5')\n",
        "model.save('savedvgg1000l.h5')\n",
        "\n",
        "test_generator = test_datagen.flow_from_directory(\n",
        "        'dataNew/testing',\n",
        "        target_size=(100, 100),\n",
        "        batch_size=1,\n",
        "        class_mode = None,  # only data, no labels\n",
        "        shuffle = False)  # keep data in same order as labels\n",
        "\n",
        "# test_loss,test_acc = model.evaluate_generator(test_generator,steps = 1)\n",
        "# print('test accuracy :',test_acc)\n",
        "# print('test loss :',test_loss)\n",
        "probabilities = model.predict_generator(test_generator, 400)\n",
        "from sklearn.metrics import confusion_matrix\n",
        "from sklearn.metrics import accuracy_score\n",
        "import numpy as np\n",
        "y_true = np.array([0] * 100 + [1] * 100 + [2] * 100 + [3] * 100 )\n",
        "#y_pred = probabilities > 0.5\n",
        "print(probabilities)\n",
        "y_pred = np.asarray(probabilities)\n",
        "y_pred = np.argmax(probabilities,axis=1)\n",
        "\n",
        "print(y_pred)\n",
        "\n",
        "print(y_true)\n",
        "\n",
        "#print(np.shape(probabilities))\n",
        "print(confusion_matrix(y_true, y_pred))\n",
        "\n",
        "print(accuracy_score(y_true, y_pred))\n"
      ],
      "execution_count": 2,
      "outputs": [
        {
          "output_type": "stream",
          "text": [
            "Found 4312 images belonging to 4 classes.\n",
            "Found 801 images belonging to 4 classes.\n"
          ],
          "name": "stdout"
        },
        {
          "output_type": "stream",
          "text": [
            "/usr/local/lib/python3.6/dist-packages/ipykernel_launcher.py:74: UserWarning: The semantics of the Keras 2 argument `steps_per_epoch` is not the same as the Keras 1 argument `samples_per_epoch`. `steps_per_epoch` is the number of batches to draw from the generator at each epoch. Basically steps_per_epoch = samples_per_epoch/batch_size. Similarly `nb_val_samples`->`validation_steps` and `val_samples`->`steps` arguments have changed. Update your method calls accordingly.\n",
            "/usr/local/lib/python3.6/dist-packages/ipykernel_launcher.py:74: UserWarning: Update your `fit_generator` call to the Keras 2 API: `fit_generator(<keras.pre..., validation_data=<keras.pre..., steps_per_epoch=134, epochs=10, validation_steps=801)`\n"
          ],
          "name": "stderr"
        },
        {
          "output_type": "stream",
          "text": [
            "Epoch 1/10\n",
            "134/134 [==============================] - 88s 657ms/step - loss: 0.8968 - acc: 0.5822 - val_loss: 0.6912 - val_acc: 0.6852\n",
            "Epoch 2/10\n",
            "134/134 [==============================] - 85s 638ms/step - loss: 0.6452 - acc: 0.7091 - val_loss: 0.7169 - val_acc: 0.6880\n",
            "Epoch 3/10\n",
            "134/134 [==============================] - 85s 638ms/step - loss: 0.5505 - acc: 0.7605 - val_loss: 0.5866 - val_acc: 0.7568\n",
            "Epoch 4/10\n",
            " 18/134 [===>..........................] - ETA: 14s - loss: 0.5603 - acc: 0.7569"
          ],
          "name": "stdout"
        },
        {
          "output_type": "stream",
          "text": [
            "134/134 [==============================] - 85s 637ms/step - loss: 0.5122 - acc: 0.7785 - val_loss: 0.6076 - val_acc: 0.7404\n",
            "Epoch 5/10\n",
            "134/134 [==============================] - 86s 640ms/step - loss: 0.4342 - acc: 0.8179 - val_loss: 0.5110 - val_acc: 0.7967\n",
            "Epoch 6/10\n",
            "134/134 [==============================] - 86s 639ms/step - loss: 0.4104 - acc: 0.8300 - val_loss: 0.6102 - val_acc: 0.7791\n",
            "Epoch 7/10\n",
            " 30/134 [=====>........................] - ETA: 13s - loss: 0.3563 - acc: 0.8500"
          ],
          "name": "stdout"
        },
        {
          "output_type": "stream",
          "text": [
            "134/134 [==============================] - 86s 640ms/step - loss: 0.3626 - acc: 0.8479 - val_loss: 0.4754 - val_acc: 0.8041\n",
            "Epoch 8/10\n",
            "134/134 [==============================] - 86s 640ms/step - loss: 0.3510 - acc: 0.8595 - val_loss: 0.4759 - val_acc: 0.8216\n",
            "Epoch 9/10\n",
            "134/134 [==============================] - 86s 641ms/step - loss: 0.3206 - acc: 0.8682 - val_loss: 0.6765 - val_acc: 0.7502\n",
            "Epoch 10/10\n",
            " 32/134 [======>.......................] - ETA: 13s - loss: 0.3087 - acc: 0.8799"
          ],
          "name": "stdout"
        },
        {
          "output_type": "stream",
          "text": [
            "134/134 [==============================] - 86s 639ms/step - loss: 0.3072 - acc: 0.8738 - val_loss: 0.5116 - val_acc: 0.8102\n",
            "Found 400 images belonging to 4 classes.\n",
            "[[2.66252637e-01 4.52255877e-03 1.13422575e-04 7.29111314e-01]\n",
            " [1.08144209e-01 1.20739341e-01 4.08767955e-04 7.70707726e-01]\n",
            " [8.30618560e-01 1.77691036e-04 3.99837245e-06 1.69199705e-01]\n",
            " ...\n",
            " [2.82408111e-02 5.54675236e-03 2.83697523e-06 9.66209531e-01]\n",
            " [9.00822431e-02 1.22709051e-01 1.43072859e-04 7.87065566e-01]\n",
            " [6.76887453e-01 3.44825611e-02 2.97588273e-03 2.85654098e-01]]\n",
            "[3 3 0 1 0 0 0 3 3 0 3 0 0 3 3 0 0 3 0 0 0 0 3 3 0 3 1 0 3 0 1 0 3 0 3 0 1\n",
            " 0 0 0 0 3 3 0 3 0 0 0 3 0 0 3 3 0 0 0 0 0 0 0 0 1 0 0 0 0 0 0 0 3 3 3 0 0\n",
            " 0 0 0 0 0 0 0 0 0 0 0 0 0 0 0 0 0 0 0 0 0 0 0 0 0 0 3 1 3 1 1 3 3 0 3 1 1\n",
            " 1 1 0 1 3 1 1 1 3 1 1 1 3 1 1 1 1 1 1 1 1 1 1 1 1 1 1 1 1 1 1 1 1 1 1 1 1\n",
            " 1 1 1 3 3 1 1 1 1 1 1 1 3 1 3 1 1 1 1 1 3 1 3 1 1 1 3 1 3 3 1 1 1 1 1 1 1\n",
            " 1 1 1 1 1 1 1 1 1 1 1 1 1 0 1 2 2 2 2 2 2 2 2 2 2 2 2 2 2 2 2 2 2 2 2 2 2\n",
            " 2 2 2 2 2 2 2 2 2 2 2 2 2 2 2 2 2 2 2 2 2 2 2 2 2 2 2 2 2 2 0 2 2 2 2 2 2\n",
            " 2 2 2 2 2 2 2 2 2 2 2 2 2 2 2 2 2 2 2 2 2 2 2 2 2 2 2 2 2 2 2 2 0 2 2 2 2\n",
            " 2 2 2 2 1 3 0 3 3 0 3 3 3 3 3 3 1 3 3 3 3 3 3 3 3 1 3 3 3 3 3 3 3 3 1 3 3\n",
            " 1 0 3 3 3 0 0 3 1 3 3 3 3 3 1 3 3 0 3 3 3 3 3 3 3 1 0 0 3 0 3 3 3 3 0 1 3\n",
            " 0 3 3 3 3 1 3 3 1 3 3 3 3 3 0 3 1 3 3 3 3 0 3 3 3 3 0 3 3 0]\n",
            "[0 0 0 0 0 0 0 0 0 0 0 0 0 0 0 0 0 0 0 0 0 0 0 0 0 0 0 0 0 0 0 0 0 0 0 0 0\n",
            " 0 0 0 0 0 0 0 0 0 0 0 0 0 0 0 0 0 0 0 0 0 0 0 0 0 0 0 0 0 0 0 0 0 0 0 0 0\n",
            " 0 0 0 0 0 0 0 0 0 0 0 0 0 0 0 0 0 0 0 0 0 0 0 0 0 0 1 1 1 1 1 1 1 1 1 1 1\n",
            " 1 1 1 1 1 1 1 1 1 1 1 1 1 1 1 1 1 1 1 1 1 1 1 1 1 1 1 1 1 1 1 1 1 1 1 1 1\n",
            " 1 1 1 1 1 1 1 1 1 1 1 1 1 1 1 1 1 1 1 1 1 1 1 1 1 1 1 1 1 1 1 1 1 1 1 1 1\n",
            " 1 1 1 1 1 1 1 1 1 1 1 1 1 1 1 2 2 2 2 2 2 2 2 2 2 2 2 2 2 2 2 2 2 2 2 2 2\n",
            " 2 2 2 2 2 2 2 2 2 2 2 2 2 2 2 2 2 2 2 2 2 2 2 2 2 2 2 2 2 2 2 2 2 2 2 2 2\n",
            " 2 2 2 2 2 2 2 2 2 2 2 2 2 2 2 2 2 2 2 2 2 2 2 2 2 2 2 2 2 2 2 2 2 2 2 2 2\n",
            " 2 2 2 2 3 3 3 3 3 3 3 3 3 3 3 3 3 3 3 3 3 3 3 3 3 3 3 3 3 3 3 3 3 3 3 3 3\n",
            " 3 3 3 3 3 3 3 3 3 3 3 3 3 3 3 3 3 3 3 3 3 3 3 3 3 3 3 3 3 3 3 3 3 3 3 3 3\n",
            " 3 3 3 3 3 3 3 3 3 3 3 3 3 3 3 3 3 3 3 3 3 3 3 3 3 3 3 3 3 3]\n",
            "[[72  5  0 23]\n",
            " [ 3 80  0 17]\n",
            " [ 2  0 98  0]\n",
            " [15 12  0 73]]\n",
            "0.8075\n"
          ],
          "name": "stdout"
        }
      ]
    },
    {
      "metadata": {
        "id": "BjB6ctlJBIgC",
        "colab_type": "code",
        "colab": {
          "base_uri": "https://localhost:8080/",
          "height": 752
        },
        "outputId": "19760b0b-1cb9-40f6-df64-1de3a6a3d1e7"
      },
      "cell_type": "code",
      "source": [
        "# list all data in history\n",
        "print(history.history.keys())\n",
        "# summarize history for accuracy\n",
        "plt.plot(history.history['acc'])\n",
        "plt.plot(history.history['val_acc'])\n",
        "plt.title('model accuracy')\n",
        "plt.ylabel('accuracy')\n",
        "plt.xlabel('epoch')\n",
        "plt.legend(['train', 'test'], loc='upper left')\n",
        "plt.show()\n",
        "# summarize history for loss\n",
        "plt.plot(history.history['loss'])\n",
        "plt.plot(history.history['val_loss'])\n",
        "plt.title('model loss')\n",
        "plt.ylabel('loss')\n",
        "plt.xlabel('epoch')\n",
        "plt.legend(['train', 'test'], loc='upper left')\n",
        "plt.show()"
      ],
      "execution_count": 3,
      "outputs": [
        {
          "output_type": "stream",
          "text": [
            "dict_keys(['val_loss', 'val_acc', 'loss', 'acc'])\n"
          ],
          "name": "stdout"
        },
        {
          "output_type": "display_data",
          "data": {
            "image/png": "[encoded data removed]",
            "text/plain": [
              "<matplotlib.figure.Figure at 0x7fcdce5d4860>"
            ]
          },
          "metadata": {
            "tags": []
          }
        },
        {
          "output_type": "display_data",
          "data": {
            "image/png": "[encoded data removed]",
            "text/plain": [
              "<matplotlib.figure.Figure at 0x7fce67e53e48>"
            ]
          },
          "metadata": {
            "tags": []
          }
        }
      ]
    }
  ]
}